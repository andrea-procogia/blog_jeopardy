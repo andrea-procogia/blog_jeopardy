{
 "cells": [
  {
   "cell_type": "markdown",
   "metadata": {},
   "source": [
    "\n",
    "I am a big Jeopardy! fan and when I found out about the [Jeopardy! data set](https://data.world/sya/200000-jeopardy-questions), I had to play around with it. After taking a look, I decided to see if I could, in a small way, replicate the famous quiz-playing machine [Watson developed by IBM](https://en.wikipedia.org/wiki/Watson_(computer).\n",
    "\n",
    "For this blog post, I'll investigate how well I can build a simple classifier to answer Jeopardy! questions about states in the U.S. I'll use previous Jeopardy! answers and questions to train my model. \n",
    "\n",
    "## Let's get started!\n",
    "\n",
    "\n",
    "![Jeopardy!](./images/jeopardy.gif)\n"
   ]
  },
  {
   "cell_type": "markdown",
   "metadata": {},
   "source": [
    "# Step #1: Setup and Import Packages"
   ]
  },
  {
   "cell_type": "code",
   "execution_count": 1,
   "metadata": {},
   "outputs": [],
   "source": [
    "# import packages\n",
    "import pandas as pd\n",
    "import numpy as np\n",
    "import matplotlib.pyplot as plt\n",
    "from sklearn.model_selection import train_test_split\n",
    "# set up display properties\n",
    "%matplotlib inline\n",
    "# this is a pretty wide data set, i.e., it has lot's of columns, so I'll use this command to set the display wider.\n",
    "pd.set_option('max_colwidth', 300)  \n",
    "# packages used in modeling\n",
    "from sklearn.pipeline import Pipeline\n",
    "from sklearn.feature_extraction.text import CountVectorizer\n",
    "import seaborn as sns\n",
    "from sklearn.linear_model import LogisticRegression\n",
    "from sklearn.metrics import accuracy_score, precision_score, recall_score, classification_report\n",
    "from sklearn.metrics import confusion_matrix"
   ]
  },
  {
   "cell_type": "markdown",
   "metadata": {},
   "source": [
    "<blockquote class=\"twitter-tweet\" data-lang=\"en\"><p lang=\"en\" dir=\"ltr\">A data scientist&#39;s &quot;Hello, World&quot;:<br><br>import numpy as np<br>import pandas as pd<br><br>print(&quot;Hello, World!&quot;)</p>&mdash; David Asboth (@davidasboth) <a href=\"https://twitter.com/davidasboth/status/778951814301552641?ref_src=twsrc%5Etfw\">September 22, 2016</a></blockquote>\n",
    "<script async src=\"https://platform.twitter.com/widgets.js\" charset=\"utf-8\"></script>\n"
   ]
  },
  {
   "cell_type": "markdown",
   "metadata": {},
   "source": [
    "# Step #2: Read in data and explore a little"
   ]
  },
  {
   "cell_type": "code",
   "execution_count": 2,
   "metadata": {},
   "outputs": [],
   "source": [
    "df = pd.read_csv('JEOPARDY_CSV.csv')"
   ]
  },
  {
   "cell_type": "code",
   "execution_count": 3,
   "metadata": {},
   "outputs": [
    {
     "data": {
      "text/plain": [
       "(216930, 7)"
      ]
     },
     "execution_count": 3,
     "metadata": {},
     "output_type": "execute_result"
    }
   ],
   "source": [
    "# how big is the data set\n",
    "df.shape"
   ]
  },
  {
   "cell_type": "code",
   "execution_count": 4,
   "metadata": {},
   "outputs": [
    {
     "data": {
      "text/html": [
       "<div>\n",
       "<style scoped>\n",
       "    .dataframe tbody tr th:only-of-type {\n",
       "        vertical-align: middle;\n",
       "    }\n",
       "\n",
       "    .dataframe tbody tr th {\n",
       "        vertical-align: top;\n",
       "    }\n",
       "\n",
       "    .dataframe thead th {\n",
       "        text-align: right;\n",
       "    }\n",
       "</style>\n",
       "<table border=\"1\" class=\"dataframe\">\n",
       "  <thead>\n",
       "    <tr style=\"text-align: right;\">\n",
       "      <th></th>\n",
       "      <th>Show_Number</th>\n",
       "      <th>Air_Date</th>\n",
       "      <th>Round</th>\n",
       "      <th>Category</th>\n",
       "      <th>Value</th>\n",
       "      <th>Question</th>\n",
       "      <th>Answer</th>\n",
       "    </tr>\n",
       "  </thead>\n",
       "  <tbody>\n",
       "    <tr>\n",
       "      <th>0</th>\n",
       "      <td>4680</td>\n",
       "      <td>12/31/04</td>\n",
       "      <td>Jeopardy!</td>\n",
       "      <td>HISTORY</td>\n",
       "      <td>$200</td>\n",
       "      <td>For the last 8 years of his life, Galileo was under house arrest for espousing this man's theory</td>\n",
       "      <td>Copernicus</td>\n",
       "    </tr>\n",
       "    <tr>\n",
       "      <th>1</th>\n",
       "      <td>4680</td>\n",
       "      <td>12/31/04</td>\n",
       "      <td>Jeopardy!</td>\n",
       "      <td>ESPN's TOP 10 ALL-TIME ATHLETES</td>\n",
       "      <td>$200</td>\n",
       "      <td>No. 2: 1912 Olympian; football star at Carlisle Indian School; 6 MLB seasons with the Reds, Giants &amp; Braves</td>\n",
       "      <td>Jim Thorpe</td>\n",
       "    </tr>\n",
       "    <tr>\n",
       "      <th>2</th>\n",
       "      <td>4680</td>\n",
       "      <td>12/31/04</td>\n",
       "      <td>Jeopardy!</td>\n",
       "      <td>EVERYBODY TALKS ABOUT IT...</td>\n",
       "      <td>$200</td>\n",
       "      <td>The city of Yuma in this state has a record average of 4,055 hours of sunshine each year</td>\n",
       "      <td>Arizona</td>\n",
       "    </tr>\n",
       "    <tr>\n",
       "      <th>3</th>\n",
       "      <td>4680</td>\n",
       "      <td>12/31/04</td>\n",
       "      <td>Jeopardy!</td>\n",
       "      <td>THE COMPANY LINE</td>\n",
       "      <td>$200</td>\n",
       "      <td>In 1963, live on \"The Art Linkletter Show\", this company served its billionth burger</td>\n",
       "      <td>McDonald's</td>\n",
       "    </tr>\n",
       "    <tr>\n",
       "      <th>4</th>\n",
       "      <td>4680</td>\n",
       "      <td>12/31/04</td>\n",
       "      <td>Jeopardy!</td>\n",
       "      <td>EPITAPHS &amp; TRIBUTES</td>\n",
       "      <td>$200</td>\n",
       "      <td>Signer of the Dec. of Indep., framer of the Constitution of Mass., second President of the United States</td>\n",
       "      <td>John Adams</td>\n",
       "    </tr>\n",
       "  </tbody>\n",
       "</table>\n",
       "</div>"
      ],
      "text/plain": [
       "   Show_Number  Air_Date      Round                         Category  Value  \\\n",
       "0         4680  12/31/04  Jeopardy!                          HISTORY  $200    \n",
       "1         4680  12/31/04  Jeopardy!  ESPN's TOP 10 ALL-TIME ATHLETES  $200    \n",
       "2         4680  12/31/04  Jeopardy!      EVERYBODY TALKS ABOUT IT...  $200    \n",
       "3         4680  12/31/04  Jeopardy!                 THE COMPANY LINE  $200    \n",
       "4         4680  12/31/04  Jeopardy!              EPITAPHS & TRIBUTES  $200    \n",
       "\n",
       "                                                                                                      Question  \\\n",
       "0             For the last 8 years of his life, Galileo was under house arrest for espousing this man's theory   \n",
       "1  No. 2: 1912 Olympian; football star at Carlisle Indian School; 6 MLB seasons with the Reds, Giants & Braves   \n",
       "2                     The city of Yuma in this state has a record average of 4,055 hours of sunshine each year   \n",
       "3                         In 1963, live on \"The Art Linkletter Show\", this company served its billionth burger   \n",
       "4     Signer of the Dec. of Indep., framer of the Constitution of Mass., second President of the United States   \n",
       "\n",
       "       Answer  \n",
       "0  Copernicus  \n",
       "1  Jim Thorpe  \n",
       "2     Arizona  \n",
       "3  McDonald's  \n",
       "4  John Adams  "
      ]
     },
     "execution_count": 4,
     "metadata": {},
     "output_type": "execute_result"
    }
   ],
   "source": [
    "# take a look at the first few rows of the dataframe\n",
    "df.head()"
   ]
  },
  {
   "cell_type": "markdown",
   "metadata": {},
   "source": [
    "## Side note:\n",
    "So, Jeopardy! is a bit unusual in its naming of answers and questions, e.g., I just said \"answers and questions\" instead of \"questions and answers.\"  Jeopardy! requires contestants to state their responses in the form of a question. For example, for row 0 shown above, Alex Trebek (the game show host) would say, \"Answer: For the last 8 years of his life, Galileo was under house arrest for espousing this man's theory\".  Then a contestant would have to answer with \"Who is Copernicus?\" in order to be awarded \\$200. If they instead said \"Copernicus,\" then they the buzzer would sound and they would lose \\$200. For sanity-sake, I'll reverse the standard Jeopardy! naming and use the column names shown in the dataframe above."
   ]
  },
  {
   "cell_type": "code",
   "execution_count": 5,
   "metadata": {},
   "outputs": [
    {
     "data": {
      "text/plain": [
       "China        216\n",
       "Australia    215\n",
       "Japan        196\n",
       "Chicago      194\n",
       "France       193\n",
       "Name: Answer, dtype: int64"
      ]
     },
     "execution_count": 5,
     "metadata": {},
     "output_type": "execute_result"
    }
   ],
   "source": [
    "# what are the most common Jeopardy! answers?\n",
    "df['Answer'].value_counts().head()"
   ]
  },
  {
   "cell_type": "code",
   "execution_count": 6,
   "metadata": {},
   "outputs": [
    {
     "data": {
      "text/plain": [
       "China         117\n",
       "California    115\n",
       "Chicago       114\n",
       "Australia     109\n",
       "Japan         106\n",
       "Name: Answer, dtype: int64"
      ]
     },
     "execution_count": 6,
     "metadata": {},
     "output_type": "execute_result"
    }
   ],
   "source": [
    "# what about for the Jeopardy! vs Double Jeopardy! rounds?\n",
    "df[df['Round']=='Jeopardy!']['Answer'].value_counts().head()"
   ]
  },
  {
   "cell_type": "code",
   "execution_count": 7,
   "metadata": {},
   "outputs": [
    {
     "data": {
      "text/plain": [
       "Australia    102\n",
       "China         95\n",
       "India         93\n",
       "Paris         89\n",
       "Mexico        89\n",
       "Name: Answer, dtype: int64"
      ]
     },
     "execution_count": 7,
     "metadata": {},
     "output_type": "execute_result"
    }
   ],
   "source": [
    "# what about for the Jeopardy! vs Double Jeopardy! rounds?\n",
    "df[df['Round']=='Double Jeopardy!']['Answer'].value_counts().head()"
   ]
  },
  {
   "cell_type": "markdown",
   "metadata": {},
   "source": [
    "# Step #3: Build dataframe of only U.S. states"
   ]
  },
  {
   "cell_type": "markdown",
   "metadata": {},
   "source": [
    "Geography is big in Jeopardy! in both rounds. Let's select only answers that are U.S. states.\n",
    "\n",
    "\n",
    "![Map_of_USA_with_state_names_2](./images/Map_of_USA_with_state_names_2.svg)\n",
    "CC BY-SA 3.0, https://commons.wikimedia.org/w/index.php?curid=8884010"
   ]
  },
  {
   "cell_type": "code",
   "execution_count": 8,
   "metadata": {},
   "outputs": [
    {
     "data": {
      "text/plain": [
       "50"
      ]
     },
     "execution_count": 8,
     "metadata": {},
     "output_type": "execute_result"
    }
   ],
   "source": [
    "# build list of U.S. states\n",
    "state_list = ['Alabama', 'Alaska', 'Arizona', 'Arkansas', 'California', \n",
    "              'Colorado', 'Connecticut', 'Delaware', 'Florida', \n",
    "              'Georgia', 'Hawaii', 'Idaho', 'Illinois', 'Indiana', 'Iowa', \n",
    "              'Kansas', 'Kentucky', 'Louisiana', 'Maine', 'Maryland', \n",
    "              'Massachusetts', 'Michigan', 'Minnesota', 'Mississippi', \n",
    "              'Missouri', 'Montana', 'Nebraska', 'Nevada', 'New Hampshire', \n",
    "              'New Jersey', 'New Mexico', 'New York', 'North Carolina', \n",
    "              'North Dakota', 'Ohio', 'Oklahoma', 'Oregon', 'Pennsylvania', \n",
    "              'Rhode Island', 'South Carolina', 'South Dakota', 'Tennessee', \n",
    "              'Texas', 'Utah', 'Vermont', 'Virginia', 'Washington', \n",
    "              'West Virginia', 'Wisconsin', 'Wyoming']\n",
    "# verify the length is 50\n",
    "len(state_list)"
   ]
  },
  {
   "cell_type": "code",
   "execution_count": 9,
   "metadata": {},
   "outputs": [
    {
     "data": {
      "text/plain": [
       "(3893, 7)"
      ]
     },
     "execution_count": 9,
     "metadata": {},
     "output_type": "execute_result"
    }
   ],
   "source": [
    "# create dataset that contains only answers from state_list.\n",
    "df_states = df[df['Answer'].isin(state_list)].copy(deep= True)\n",
    "# check the size\n",
    "df_states.shape"
   ]
  },
  {
   "cell_type": "markdown",
   "metadata": {},
   "source": [
    "Our original data set had about 200,000 rows and selecting only rows where the answer is a U.S. state drops it down to almost 4,000. Let's explore this data set a bit."
   ]
  },
  {
   "cell_type": "code",
   "execution_count": 10,
   "metadata": {},
   "outputs": [
    {
     "data": {
      "text/html": [
       "<div>\n",
       "<style scoped>\n",
       "    .dataframe tbody tr th:only-of-type {\n",
       "        vertical-align: middle;\n",
       "    }\n",
       "\n",
       "    .dataframe tbody tr th {\n",
       "        vertical-align: top;\n",
       "    }\n",
       "\n",
       "    .dataframe thead th {\n",
       "        text-align: right;\n",
       "    }\n",
       "</style>\n",
       "<table border=\"1\" class=\"dataframe\">\n",
       "  <thead>\n",
       "    <tr style=\"text-align: right;\">\n",
       "      <th></th>\n",
       "      <th>Show_Number</th>\n",
       "      <th>Air_Date</th>\n",
       "      <th>Round</th>\n",
       "      <th>Category</th>\n",
       "      <th>Value</th>\n",
       "      <th>Question</th>\n",
       "      <th>Answer</th>\n",
       "    </tr>\n",
       "  </thead>\n",
       "  <tbody>\n",
       "    <tr>\n",
       "      <th>2</th>\n",
       "      <td>4680</td>\n",
       "      <td>12/31/04</td>\n",
       "      <td>Jeopardy!</td>\n",
       "      <td>EVERYBODY TALKS ABOUT IT...</td>\n",
       "      <td>$200</td>\n",
       "      <td>The city of Yuma in this state has a record average of 4,055 hours of sunshine each year</td>\n",
       "      <td>Arizona</td>\n",
       "    </tr>\n",
       "    <tr>\n",
       "      <th>8</th>\n",
       "      <td>4680</td>\n",
       "      <td>12/31/04</td>\n",
       "      <td>Jeopardy!</td>\n",
       "      <td>EVERYBODY TALKS ABOUT IT...</td>\n",
       "      <td>$400</td>\n",
       "      <td>In the winter of 1971-72, a record 1,122 inches of snow fell at Rainier Paradise Ranger Station in this state</td>\n",
       "      <td>Washington</td>\n",
       "    </tr>\n",
       "    <tr>\n",
       "      <th>95</th>\n",
       "      <td>5957</td>\n",
       "      <td>7/6/10</td>\n",
       "      <td>Double Jeopardy!</td>\n",
       "      <td>SEE &amp; SAY</td>\n",
       "      <td>$800</td>\n",
       "      <td>Say &lt;a href=\"http://www.j-archive.com/media/2010-07-06_DJ_27.jpg\" target=\"_blank\"&gt;this&lt;/a&gt; state that was admitted to the Union in 1859</td>\n",
       "      <td>Oregon</td>\n",
       "    </tr>\n",
       "    <tr>\n",
       "      <th>108</th>\n",
       "      <td>5957</td>\n",
       "      <td>7/6/10</td>\n",
       "      <td>Double Jeopardy!</td>\n",
       "      <td>NEWS TO ME</td>\n",
       "      <td>$1,600</td>\n",
       "      <td>In a surprise, Ted Kennedy's old Senate seat in this state went to a Republican in a January 2010 election</td>\n",
       "      <td>Massachusetts</td>\n",
       "    </tr>\n",
       "    <tr>\n",
       "      <th>299</th>\n",
       "      <td>5690</td>\n",
       "      <td>5/8/09</td>\n",
       "      <td>Jeopardy!</td>\n",
       "      <td>A STATE OF COLLEGE-NESS</td>\n",
       "      <td>$200</td>\n",
       "      <td>Baylor, Stephen F. Austin, Rice</td>\n",
       "      <td>Texas</td>\n",
       "    </tr>\n",
       "  </tbody>\n",
       "</table>\n",
       "</div>"
      ],
      "text/plain": [
       "     Show_Number  Air_Date             Round                     Category  \\\n",
       "2           4680  12/31/04         Jeopardy!  EVERYBODY TALKS ABOUT IT...   \n",
       "8           4680  12/31/04         Jeopardy!  EVERYBODY TALKS ABOUT IT...   \n",
       "95          5957    7/6/10  Double Jeopardy!                    SEE & SAY   \n",
       "108         5957    7/6/10  Double Jeopardy!                   NEWS TO ME   \n",
       "299         5690    5/8/09         Jeopardy!      A STATE OF COLLEGE-NESS   \n",
       "\n",
       "       Value  \\\n",
       "2      $200    \n",
       "8      $400    \n",
       "95     $800    \n",
       "108  $1,600    \n",
       "299    $200    \n",
       "\n",
       "                                                                                                                                    Question  \\\n",
       "2                                                   The city of Yuma in this state has a record average of 4,055 hours of sunshine each year   \n",
       "8                              In the winter of 1971-72, a record 1,122 inches of snow fell at Rainier Paradise Ranger Station in this state   \n",
       "95   Say <a href=\"http://www.j-archive.com/media/2010-07-06_DJ_27.jpg\" target=\"_blank\">this</a> state that was admitted to the Union in 1859   \n",
       "108                               In a surprise, Ted Kennedy's old Senate seat in this state went to a Republican in a January 2010 election   \n",
       "299                                                                                                          Baylor, Stephen F. Austin, Rice   \n",
       "\n",
       "            Answer  \n",
       "2          Arizona  \n",
       "8       Washington  \n",
       "95          Oregon  \n",
       "108  Massachusetts  \n",
       "299          Texas  "
      ]
     },
     "execution_count": 10,
     "metadata": {},
     "output_type": "execute_result"
    }
   ],
   "source": [
    "# what does the data look like?\n",
    "df_states.head()"
   ]
  },
  {
   "cell_type": "code",
   "execution_count": 11,
   "metadata": {},
   "outputs": [
    {
     "data": {
      "text/plain": [
       "California    180\n",
       "Alaska        161\n",
       "Hawaii        157\n",
       "Texas         153\n",
       "Florida       140\n",
       "Name: Answer, dtype: int64"
      ]
     },
     "execution_count": 11,
     "metadata": {},
     "output_type": "execute_result"
    }
   ],
   "source": [
    "# what are the most popular answers about U.S. states?\n",
    "df_states['Answer'].value_counts().head()"
   ]
  },
  {
   "cell_type": "code",
   "execution_count": 12,
   "metadata": {},
   "outputs": [
    {
     "data": {
      "text/plain": [
       "California    4.623684\n",
       "Alaska        4.135628\n",
       "Hawaii        4.032880\n",
       "Texas         3.930131\n",
       "Florida       3.596198\n",
       "Name: Answer, dtype: float64"
      ]
     },
     "execution_count": 12,
     "metadata": {},
     "output_type": "execute_result"
    }
   ],
   "source": [
    "# what percentage of questions are about the top states?\n",
    "df_states['Answer'].value_counts(normalize = True).head() *100"
   ]
  },
  {
   "cell_type": "markdown",
   "metadata": {},
   "source": [
    "The top three answers appear 4% of the time. If the states were uniformly sampled, then they should all appear about 2% of the time (1/50 X 100%). So California, Alaska, and Hawaii are over-sampled in the Jeopardy! clues.\n",
    "\n",
    "The goal of my exploration is to build a model that can correctly predict the correct answer to a Jeopardy! question. I'm going to simplify this a bit more because there are 50 states and that's a lot to work with at once. So, I'll focus on only a few states, the top 3, *California, Alaska, and Hawaii*, and then three of the states where I've lived, *Arizona, Washington, and Texas*. Let's see where Washington and Arizona rank in popularity."
   ]
  },
  {
   "cell_type": "code",
   "execution_count": 13,
   "metadata": {},
   "outputs": [
    {
     "data": {
      "text/plain": [
       "2.003596198304649"
      ]
     },
     "execution_count": 13,
     "metadata": {},
     "output_type": "execute_result"
    }
   ],
   "source": [
    "df_states['Answer'].value_counts(normalize = True)['Arizona'] *100"
   ]
  },
  {
   "cell_type": "code",
   "execution_count": 14,
   "metadata": {},
   "outputs": [
    {
     "data": {
      "text/plain": [
       "2.440277421012073"
      ]
     },
     "execution_count": 14,
     "metadata": {},
     "output_type": "execute_result"
    }
   ],
   "source": [
    "df_states['Answer'].value_counts(normalize = True)['Washington']*100"
   ]
  },
  {
   "cell_type": "code",
   "execution_count": 15,
   "metadata": {},
   "outputs": [
    {
     "data": {
      "text/plain": [
       "(824, 7)"
      ]
     },
     "execution_count": 15,
     "metadata": {},
     "output_type": "execute_result"
    }
   ],
   "source": [
    "# build a dataframe with only 6 states\n",
    "states_6 = ['California', 'Alaska', 'Hawaii', 'Arizona', 'Washington', 'Texas']\n",
    "df_states_6 = df_states[df_states['Answer'].isin(states_6)].copy(deep= True)\n",
    "# check the size\n",
    "df_states_6.shape"
   ]
  },
  {
   "cell_type": "code",
   "execution_count": 16,
   "metadata": {},
   "outputs": [
    {
     "data": {
      "text/html": [
       "<div>\n",
       "<style scoped>\n",
       "    .dataframe tbody tr th:only-of-type {\n",
       "        vertical-align: middle;\n",
       "    }\n",
       "\n",
       "    .dataframe tbody tr th {\n",
       "        vertical-align: top;\n",
       "    }\n",
       "\n",
       "    .dataframe thead th {\n",
       "        text-align: right;\n",
       "    }\n",
       "</style>\n",
       "<table border=\"1\" class=\"dataframe\">\n",
       "  <thead>\n",
       "    <tr style=\"text-align: right;\">\n",
       "      <th></th>\n",
       "      <th>Show_Number</th>\n",
       "      <th>Air_Date</th>\n",
       "      <th>Round</th>\n",
       "      <th>Category</th>\n",
       "      <th>Value</th>\n",
       "      <th>Question</th>\n",
       "      <th>Answer</th>\n",
       "    </tr>\n",
       "  </thead>\n",
       "  <tbody>\n",
       "    <tr>\n",
       "      <th>2</th>\n",
       "      <td>4680</td>\n",
       "      <td>12/31/04</td>\n",
       "      <td>Jeopardy!</td>\n",
       "      <td>EVERYBODY TALKS ABOUT IT...</td>\n",
       "      <td>$200</td>\n",
       "      <td>The city of Yuma in this state has a record average of 4,055 hours of sunshine each year</td>\n",
       "      <td>Arizona</td>\n",
       "    </tr>\n",
       "    <tr>\n",
       "      <th>8</th>\n",
       "      <td>4680</td>\n",
       "      <td>12/31/04</td>\n",
       "      <td>Jeopardy!</td>\n",
       "      <td>EVERYBODY TALKS ABOUT IT...</td>\n",
       "      <td>$400</td>\n",
       "      <td>In the winter of 1971-72, a record 1,122 inches of snow fell at Rainier Paradise Ranger Station in this state</td>\n",
       "      <td>Washington</td>\n",
       "    </tr>\n",
       "    <tr>\n",
       "      <th>299</th>\n",
       "      <td>5690</td>\n",
       "      <td>5/8/09</td>\n",
       "      <td>Jeopardy!</td>\n",
       "      <td>A STATE OF COLLEGE-NESS</td>\n",
       "      <td>$200</td>\n",
       "      <td>Baylor, Stephen F. Austin, Rice</td>\n",
       "      <td>Texas</td>\n",
       "    </tr>\n",
       "    <tr>\n",
       "      <th>368</th>\n",
       "      <td>2825</td>\n",
       "      <td>12/6/96</td>\n",
       "      <td>Jeopardy!</td>\n",
       "      <td>ANNUAL EVENTS</td>\n",
       "      <td>$200</td>\n",
       "      <td>Monroe, near Snohomish in this state, is the site of the annual Evergreen State Fair</td>\n",
       "      <td>Washington</td>\n",
       "    </tr>\n",
       "    <tr>\n",
       "      <th>477</th>\n",
       "      <td>5243</td>\n",
       "      <td>5/30/07</td>\n",
       "      <td>Jeopardy!</td>\n",
       "      <td>STATE SUPERLATIVES</td>\n",
       "      <td>$200</td>\n",
       "      <td>A valley at 282 feet below sea level in this state is the lowest point in the Western Hemisphere</td>\n",
       "      <td>California</td>\n",
       "    </tr>\n",
       "  </tbody>\n",
       "</table>\n",
       "</div>"
      ],
      "text/plain": [
       "     Show_Number  Air_Date      Round                     Category  Value  \\\n",
       "2           4680  12/31/04  Jeopardy!  EVERYBODY TALKS ABOUT IT...  $200    \n",
       "8           4680  12/31/04  Jeopardy!  EVERYBODY TALKS ABOUT IT...  $400    \n",
       "299         5690    5/8/09  Jeopardy!      A STATE OF COLLEGE-NESS  $200    \n",
       "368         2825   12/6/96  Jeopardy!                ANNUAL EVENTS  $200    \n",
       "477         5243   5/30/07  Jeopardy!           STATE SUPERLATIVES  $200    \n",
       "\n",
       "                                                                                                          Question  \\\n",
       "2                         The city of Yuma in this state has a record average of 4,055 hours of sunshine each year   \n",
       "8    In the winter of 1971-72, a record 1,122 inches of snow fell at Rainier Paradise Ranger Station in this state   \n",
       "299                                                                                Baylor, Stephen F. Austin, Rice   \n",
       "368                           Monroe, near Snohomish in this state, is the site of the annual Evergreen State Fair   \n",
       "477               A valley at 282 feet below sea level in this state is the lowest point in the Western Hemisphere   \n",
       "\n",
       "         Answer  \n",
       "2       Arizona  \n",
       "8    Washington  \n",
       "299       Texas  \n",
       "368  Washington  \n",
       "477  California  "
      ]
     },
     "execution_count": 16,
     "metadata": {},
     "output_type": "execute_result"
    }
   ],
   "source": [
    "# take a look \n",
    "df_states_6.head()"
   ]
  },
  {
   "cell_type": "code",
   "execution_count": 17,
   "metadata": {},
   "outputs": [
    {
     "data": {
      "text/html": [
       "<div>\n",
       "<style scoped>\n",
       "    .dataframe tbody tr th:only-of-type {\n",
       "        vertical-align: middle;\n",
       "    }\n",
       "\n",
       "    .dataframe tbody tr th {\n",
       "        vertical-align: top;\n",
       "    }\n",
       "\n",
       "    .dataframe thead th {\n",
       "        text-align: right;\n",
       "    }\n",
       "</style>\n",
       "<table border=\"1\" class=\"dataframe\">\n",
       "  <thead>\n",
       "    <tr style=\"text-align: right;\">\n",
       "      <th></th>\n",
       "      <th>Show_Number</th>\n",
       "      <th>Air_Date</th>\n",
       "      <th>Round</th>\n",
       "      <th>Category</th>\n",
       "      <th>Value</th>\n",
       "      <th>Question</th>\n",
       "      <th>Answer</th>\n",
       "    </tr>\n",
       "  </thead>\n",
       "  <tbody>\n",
       "    <tr>\n",
       "      <th>8</th>\n",
       "      <td>4680</td>\n",
       "      <td>12/31/04</td>\n",
       "      <td>Jeopardy!</td>\n",
       "      <td>EVERYBODY TALKS ABOUT IT...</td>\n",
       "      <td>$400</td>\n",
       "      <td>In the winter of 1971-72, a record 1,122 inches of snow fell at Rainier Paradise Ranger Station in this state</td>\n",
       "      <td>Washington</td>\n",
       "    </tr>\n",
       "    <tr>\n",
       "      <th>368</th>\n",
       "      <td>2825</td>\n",
       "      <td>12/6/96</td>\n",
       "      <td>Jeopardy!</td>\n",
       "      <td>ANNUAL EVENTS</td>\n",
       "      <td>$200</td>\n",
       "      <td>Monroe, near Snohomish in this state, is the site of the annual Evergreen State Fair</td>\n",
       "      <td>Washington</td>\n",
       "    </tr>\n",
       "    <tr>\n",
       "      <th>501</th>\n",
       "      <td>5243</td>\n",
       "      <td>5/30/07</td>\n",
       "      <td>Jeopardy!</td>\n",
       "      <td>STATE SUPERLATIVES</td>\n",
       "      <td>$1,000</td>\n",
       "      <td>Its Boeing manufacturing plant in Everett is the world's largest building by volume</td>\n",
       "      <td>Washington</td>\n",
       "    </tr>\n",
       "    <tr>\n",
       "      <th>3088</th>\n",
       "      <td>4487</td>\n",
       "      <td>2/24/04</td>\n",
       "      <td>Double Jeopardy!</td>\n",
       "      <td>THE PRODUCERS</td>\n",
       "      <td>$1,600</td>\n",
       "      <td>It leads the states in apple production</td>\n",
       "      <td>Washington</td>\n",
       "    </tr>\n",
       "    <tr>\n",
       "      <th>3250</th>\n",
       "      <td>5084</td>\n",
       "      <td>10/19/06</td>\n",
       "      <td>Jeopardy!</td>\n",
       "      <td>AMERICAN COUNTIES</td>\n",
       "      <td>$1,000</td>\n",
       "      <td>While many states have counties named Lincoln, this is the only state that has one named Snohomish</td>\n",
       "      <td>Washington</td>\n",
       "    </tr>\n",
       "    <tr>\n",
       "      <th>5099</th>\n",
       "      <td>4842</td>\n",
       "      <td>10/4/05</td>\n",
       "      <td>Jeopardy!</td>\n",
       "      <td>YOUNG ABE LINCOLN</td>\n",
       "      <td>$400</td>\n",
       "      <td>Among the books read by Lincoln as a youngster were \"Robinson Crusoe\", \"Aesop's Fables\", &amp; Mason Weems' \"Life of\" this man</td>\n",
       "      <td>Washington</td>\n",
       "    </tr>\n",
       "    <tr>\n",
       "      <th>6787</th>\n",
       "      <td>4306</td>\n",
       "      <td>4/28/03</td>\n",
       "      <td>Double Jeopardy!</td>\n",
       "      <td>STATE: THE OBVIOUS</td>\n",
       "      <td>$800</td>\n",
       "      <td>Florida's in the southeast corner of the 48 contiguous states; this state is in the northwest corner</td>\n",
       "      <td>Washington</td>\n",
       "    </tr>\n",
       "    <tr>\n",
       "      <th>9033</th>\n",
       "      <td>3409</td>\n",
       "      <td>6/3/99</td>\n",
       "      <td>Jeopardy!</td>\n",
       "      <td>BILL GATES' 50 BILLION</td>\n",
       "      <td>$200</td>\n",
       "      <td>In this state where he lives, Bill could pay the governor's salary for 413,000 years</td>\n",
       "      <td>Washington</td>\n",
       "    </tr>\n",
       "    <tr>\n",
       "      <th>11369</th>\n",
       "      <td>5279</td>\n",
       "      <td>7/19/07</td>\n",
       "      <td>Jeopardy!</td>\n",
       "      <td>WASHINGTON, LINCOLN OR GEORGE W. BUSH</td>\n",
       "      <td>$200</td>\n",
       "      <td>Was born a British subject</td>\n",
       "      <td>Washington</td>\n",
       "    </tr>\n",
       "    <tr>\n",
       "      <th>12308</th>\n",
       "      <td>6230</td>\n",
       "      <td>10/21/11</td>\n",
       "      <td>Jeopardy!</td>\n",
       "      <td>STATE OF THE NOVEL</td>\n",
       "      <td>$200</td>\n",
       "      <td>\"Twilight\"</td>\n",
       "      <td>Washington</td>\n",
       "    </tr>\n",
       "  </tbody>\n",
       "</table>\n",
       "</div>"
      ],
      "text/plain": [
       "       Show_Number  Air_Date             Round  \\\n",
       "8             4680  12/31/04         Jeopardy!   \n",
       "368           2825   12/6/96         Jeopardy!   \n",
       "501           5243   5/30/07         Jeopardy!   \n",
       "3088          4487   2/24/04  Double Jeopardy!   \n",
       "3250          5084  10/19/06         Jeopardy!   \n",
       "5099          4842   10/4/05         Jeopardy!   \n",
       "6787          4306   4/28/03  Double Jeopardy!   \n",
       "9033          3409    6/3/99         Jeopardy!   \n",
       "11369         5279   7/19/07         Jeopardy!   \n",
       "12308         6230  10/21/11         Jeopardy!   \n",
       "\n",
       "                                    Category    Value  \\\n",
       "8                EVERYBODY TALKS ABOUT IT...    $400    \n",
       "368                            ANNUAL EVENTS    $200    \n",
       "501                       STATE SUPERLATIVES  $1,000    \n",
       "3088                           THE PRODUCERS  $1,600    \n",
       "3250                       AMERICAN COUNTIES  $1,000    \n",
       "5099                       YOUNG ABE LINCOLN    $400    \n",
       "6787                      STATE: THE OBVIOUS    $800    \n",
       "9033                  BILL GATES' 50 BILLION    $200    \n",
       "11369  WASHINGTON, LINCOLN OR GEORGE W. BUSH    $200    \n",
       "12308                     STATE OF THE NOVEL    $200    \n",
       "\n",
       "                                                                                                                         Question  \\\n",
       "8                   In the winter of 1971-72, a record 1,122 inches of snow fell at Rainier Paradise Ranger Station in this state   \n",
       "368                                          Monroe, near Snohomish in this state, is the site of the annual Evergreen State Fair   \n",
       "501                                           Its Boeing manufacturing plant in Everett is the world's largest building by volume   \n",
       "3088                                                                                      It leads the states in apple production   \n",
       "3250                           While many states have counties named Lincoln, this is the only state that has one named Snohomish   \n",
       "5099   Among the books read by Lincoln as a youngster were \"Robinson Crusoe\", \"Aesop's Fables\", & Mason Weems' \"Life of\" this man   \n",
       "6787                         Florida's in the southeast corner of the 48 contiguous states; this state is in the northwest corner   \n",
       "9033                                         In this state where he lives, Bill could pay the governor's salary for 413,000 years   \n",
       "11369                                                                                                  Was born a British subject   \n",
       "12308                                                                                                                  \"Twilight\"   \n",
       "\n",
       "           Answer  \n",
       "8      Washington  \n",
       "368    Washington  \n",
       "501    Washington  \n",
       "3088   Washington  \n",
       "3250   Washington  \n",
       "5099   Washington  \n",
       "6787   Washington  \n",
       "9033   Washington  \n",
       "11369  Washington  \n",
       "12308  Washington  "
      ]
     },
     "execution_count": 17,
     "metadata": {},
     "output_type": "execute_result"
    }
   ],
   "source": [
    "# 10 questions about Washington\n",
    "df_states_6[df_states_6['Answer']=='Washington'].head(10)"
   ]
  },
  {
   "cell_type": "markdown",
   "metadata": {},
   "source": [
    "### Washington: State or President?\n",
    "Taking a look at questions where \"Washington\" is the answer, shows that the question could be referring to Washington, the state, or Washington, the president. This is something that might play a role in how accurate our model can be with questions about Washington versus questions about Arizona. "
   ]
  },
  {
   "cell_type": "markdown",
   "metadata": {},
   "source": [
    "# Step 4: Feature Engineering"
   ]
  },
  {
   "cell_type": "markdown",
   "metadata": {},
   "source": [
    "Now that we've decided that we want to predict the correct state name given a question, we have to figure out what sort of features a question has that can inform us about how to pick the correct answer. What patterns emerge for each state? Looking at the previous output showing the clues about Washington, a common word that appears is \"Snohomish.\" Does this word appear in questions about any of the other states?"
   ]
  },
  {
   "cell_type": "code",
   "execution_count": 18,
   "metadata": {},
   "outputs": [
    {
     "data": {
      "text/html": [
       "<div>\n",
       "<style scoped>\n",
       "    .dataframe tbody tr th:only-of-type {\n",
       "        vertical-align: middle;\n",
       "    }\n",
       "\n",
       "    .dataframe tbody tr th {\n",
       "        vertical-align: top;\n",
       "    }\n",
       "\n",
       "    .dataframe thead th {\n",
       "        text-align: right;\n",
       "    }\n",
       "</style>\n",
       "<table border=\"1\" class=\"dataframe\">\n",
       "  <thead>\n",
       "    <tr style=\"text-align: right;\">\n",
       "      <th></th>\n",
       "      <th>Show_Number</th>\n",
       "      <th>Air_Date</th>\n",
       "      <th>Round</th>\n",
       "      <th>Category</th>\n",
       "      <th>Value</th>\n",
       "      <th>Question</th>\n",
       "      <th>Answer</th>\n",
       "    </tr>\n",
       "  </thead>\n",
       "  <tbody>\n",
       "    <tr>\n",
       "      <th>368</th>\n",
       "      <td>2825</td>\n",
       "      <td>12/6/96</td>\n",
       "      <td>Jeopardy!</td>\n",
       "      <td>ANNUAL EVENTS</td>\n",
       "      <td>$200</td>\n",
       "      <td>Monroe, near Snohomish in this state, is the site of the annual Evergreen State Fair</td>\n",
       "      <td>Washington</td>\n",
       "    </tr>\n",
       "    <tr>\n",
       "      <th>3250</th>\n",
       "      <td>5084</td>\n",
       "      <td>10/19/06</td>\n",
       "      <td>Jeopardy!</td>\n",
       "      <td>AMERICAN COUNTIES</td>\n",
       "      <td>$1,000</td>\n",
       "      <td>While many states have counties named Lincoln, this is the only state that has one named Snohomish</td>\n",
       "      <td>Washington</td>\n",
       "    </tr>\n",
       "  </tbody>\n",
       "</table>\n",
       "</div>"
      ],
      "text/plain": [
       "      Show_Number  Air_Date      Round           Category    Value  \\\n",
       "368          2825   12/6/96  Jeopardy!      ANNUAL EVENTS    $200    \n",
       "3250         5084  10/19/06  Jeopardy!  AMERICAN COUNTIES  $1,000    \n",
       "\n",
       "                                                                                                Question  \\\n",
       "368                 Monroe, near Snohomish in this state, is the site of the annual Evergreen State Fair   \n",
       "3250  While many states have counties named Lincoln, this is the only state that has one named Snohomish   \n",
       "\n",
       "          Answer  \n",
       "368   Washington  \n",
       "3250  Washington  "
      ]
     },
     "execution_count": 18,
     "metadata": {},
     "output_type": "execute_result"
    }
   ],
   "source": [
    "df_states_6[df_states_6['Question'].str.contains(\"Snohomish\")].head(10)"
   ]
  },
  {
   "cell_type": "markdown",
   "metadata": {},
   "source": [
    "Nope, the only two questions containing the word \"Snohomish\" have \"Washington\" as their answer. What about \"Evergreen\"? After all, Washington is the \"Evergreen State.\""
   ]
  },
  {
   "cell_type": "code",
   "execution_count": 19,
   "metadata": {},
   "outputs": [
    {
     "data": {
      "text/html": [
       "<div>\n",
       "<style scoped>\n",
       "    .dataframe tbody tr th:only-of-type {\n",
       "        vertical-align: middle;\n",
       "    }\n",
       "\n",
       "    .dataframe tbody tr th {\n",
       "        vertical-align: top;\n",
       "    }\n",
       "\n",
       "    .dataframe thead th {\n",
       "        text-align: right;\n",
       "    }\n",
       "</style>\n",
       "<table border=\"1\" class=\"dataframe\">\n",
       "  <thead>\n",
       "    <tr style=\"text-align: right;\">\n",
       "      <th></th>\n",
       "      <th>Show_Number</th>\n",
       "      <th>Air_Date</th>\n",
       "      <th>Round</th>\n",
       "      <th>Category</th>\n",
       "      <th>Value</th>\n",
       "      <th>Question</th>\n",
       "      <th>Answer</th>\n",
       "    </tr>\n",
       "  </thead>\n",
       "  <tbody>\n",
       "    <tr>\n",
       "      <th>368</th>\n",
       "      <td>2825</td>\n",
       "      <td>12/6/96</td>\n",
       "      <td>Jeopardy!</td>\n",
       "      <td>ANNUAL EVENTS</td>\n",
       "      <td>$200</td>\n",
       "      <td>Monroe, near Snohomish in this state, is the site of the annual Evergreen State Fair</td>\n",
       "      <td>Washington</td>\n",
       "    </tr>\n",
       "    <tr>\n",
       "      <th>106424</th>\n",
       "      <td>3345</td>\n",
       "      <td>3/5/99</td>\n",
       "      <td>Double Jeopardy!</td>\n",
       "      <td>STATE LICENSE PLATES</td>\n",
       "      <td>$800</td>\n",
       "      <td>301-JRJ Evergreen State</td>\n",
       "      <td>Washington</td>\n",
       "    </tr>\n",
       "    <tr>\n",
       "      <th>108152</th>\n",
       "      <td>3631</td>\n",
       "      <td>5/22/00</td>\n",
       "      <td>Jeopardy!</td>\n",
       "      <td>ASIAN-AMERICAN ACHIEVERS</td>\n",
       "      <td>$100</td>\n",
       "      <td>Gary Locke of this \"Evergreen State\" is the first Chinese-American governor in U.S. history</td>\n",
       "      <td>Washington</td>\n",
       "    </tr>\n",
       "    <tr>\n",
       "      <th>164029</th>\n",
       "      <td>5122</td>\n",
       "      <td>12/12/06</td>\n",
       "      <td>Jeopardy!</td>\n",
       "      <td>STATE THE STATE</td>\n",
       "      <td>$600</td>\n",
       "      <td>Shots like the one seen &lt;a href=\"http://www.j-archive.com/media/2006-12-12_J_13.jpg\" target=\"_blank\"&gt;here&lt;/a&gt; show you why it's the Evergreen State</td>\n",
       "      <td>Washington</td>\n",
       "    </tr>\n",
       "  </tbody>\n",
       "</table>\n",
       "</div>"
      ],
      "text/plain": [
       "        Show_Number  Air_Date             Round                  Category  \\\n",
       "368            2825   12/6/96         Jeopardy!             ANNUAL EVENTS   \n",
       "106424         3345    3/5/99  Double Jeopardy!      STATE LICENSE PLATES   \n",
       "108152         3631   5/22/00         Jeopardy!  ASIAN-AMERICAN ACHIEVERS   \n",
       "164029         5122  12/12/06         Jeopardy!           STATE THE STATE   \n",
       "\n",
       "        Value  \\\n",
       "368     $200    \n",
       "106424  $800    \n",
       "108152  $100    \n",
       "164029  $600    \n",
       "\n",
       "                                                                                                                                                   Question  \\\n",
       "368                                                                    Monroe, near Snohomish in this state, is the site of the annual Evergreen State Fair   \n",
       "106424                                                                                                                              301-JRJ Evergreen State   \n",
       "108152                                                          Gary Locke of this \"Evergreen State\" is the first Chinese-American governor in U.S. history   \n",
       "164029  Shots like the one seen <a href=\"http://www.j-archive.com/media/2006-12-12_J_13.jpg\" target=\"_blank\">here</a> show you why it's the Evergreen State   \n",
       "\n",
       "            Answer  \n",
       "368     Washington  \n",
       "106424  Washington  \n",
       "108152  Washington  \n",
       "164029  Washington  "
      ]
     },
     "execution_count": 19,
     "metadata": {},
     "output_type": "execute_result"
    }
   ],
   "source": [
    "df_states_6[df_states_6['Question'].str.contains(\"Evergreen\")].head(10)"
   ]
  },
  {
   "cell_type": "markdown",
   "metadata": {},
   "source": [
    "Yes! *Evergreen* is a great indicator that a question is about the state of Washington. \n",
    "\n",
    "Using this technique of finding words that are popular in questions about specific states, we will build a model that counts words contained in the questions for each state and use that to predict the answer when we present the model with a never-before-seen question. The test of the model is to see how well the accuracy is on questions where *we* know the answer, but the model doesn't. We will *train* the model on 80% of the data and then *test* it by asking it to predict the answer on the remaining 20%."
   ]
  },
  {
   "cell_type": "code",
   "execution_count": 20,
   "metadata": {},
   "outputs": [],
   "source": [
    "# transform dataframe columns containing question and answers to a list\n",
    "list_docs = df_states_6['Question'].tolist()\n",
    "list_labels = df_states_6['Answer'].tolist()\n",
    "# split the data into a training and test set. \n",
    "X_train, X_test, y_train, y_test = train_test_split(list_docs, list_labels, test_size = 0.2, random_state = 42)"
   ]
  },
  {
   "cell_type": "markdown",
   "metadata": {},
   "source": [
    "# Step #5: Building the model"
   ]
  },
  {
   "cell_type": "markdown",
   "metadata": {},
   "source": [
    "Now, I haven't yet counted all the words in my data set; I'm going to do this at the same time as I build my model. Python's [sk-learn package](http://scikit-learn.org/) has a really great tool called Pipeline. It lets you pass your data through a pipeline of feature engineering and modeling all in one-step. Here, I'll build a pipeline that uses the CountVectorizer package and then passes the data to a logistic regression model. "
   ]
  },
  {
   "cell_type": "code",
   "execution_count": 21,
   "metadata": {},
   "outputs": [
    {
     "data": {
      "text/plain": [
       "0.5818181818181818"
      ]
     },
     "execution_count": 21,
     "metadata": {},
     "output_type": "execute_result"
    }
   ],
   "source": [
    "# build the pipeline\n",
    "pipeline_LR = Pipeline([('vect', CountVectorizer(decode_error='ignore')), ('clf', LogisticRegression())])\n",
    "# pass the data to the pipeline and build a model using the training data set\n",
    "pipeline_LR = pipeline_LR.fit(X_train, y_train)\n",
    "# pass the test data to the pipeline and get the predicted values\n",
    "y_test_predicted = pipeline_LR.predict(X_test)\n",
    "# calculate the accuracy of the model using the test data and the predicted value of the test data\n",
    "accuracy = accuracy_score(y_test, y_test_predicted)\n",
    "accuracy"
   ]
  },
  {
   "cell_type": "markdown",
   "metadata": {},
   "source": [
    "Hmmm... the accuracy of the model is 58%. Is that good or is that bad? Well, I'm trying to predict the answer to a question where there are 6 possible answers (*California, Alaska, Hawaii, Arizona, Washington, or Texas*). If I were to guess randomly, I would be correct 1/6th of the time or ~17% of the time. So, an accuracy of 58% is actually predict good. It's 3 times better than randomly guessing. \n",
    "\n",
    "Now there's a lot more that I could do with improving the model. I can try a few other classification models, like decision trees or support-vector classifier. I could also adjust the default parameters of the model or clean up my data a bit more by removing stop words and punctuation. For now, I'm pretty happy with an accuracy that is better than random."
   ]
  },
  {
   "cell_type": "markdown",
   "metadata": {},
   "source": [
    "# Step #6: Investigating the model\n",
    "\n",
    "Where did the model do well and where did it perform poorly? A confusion matrix is a great visual representation of the answer to this question. A good-looking confusion matrix will have a strongly defined diagonal line. When the true label is *California*, then most of the predicted labels should fall under *California* as well. "
   ]
  },
  {
   "cell_type": "code",
   "execution_count": 22,
   "metadata": {},
   "outputs": [
    {
     "data": {
      "image/png": "[encoded data removed]",
      "text/plain": [
       "<Figure size 432x288 with 2 Axes>"
      ]
     },
     "metadata": {},
     "output_type": "display_data"
    }
   ],
   "source": [
    "CM = confusion_matrix(y_test, list(y_test_predicted),labels = states_6)\n",
    "ax = sns.heatmap(CM, linewidths=.5,  xticklabels = states_6, yticklabels = states_6, cmap=\"YlGnBu\", annot = True, fmt = \"d\")\n",
    "plt.ylabel('True label')\n",
    "plt.xlabel('Predicted label');"
   ]
  },
  {
   "cell_type": "markdown",
   "metadata": {},
   "source": [
    "I had a theory that Washington might be tricky to get right because of possible confusion with the president. It looks like I might be right. \n",
    "\n",
    "Both the states of Arizona and Washington were present in the data set by about the same amount. However, in the test data set, Washington is correctly predicted 6 out of 23 times (i. e., 26% of the time) and Arizona is correctly predicted at a slightly higher rate (5/17 or 29%). Let's take a look at some of the cases where Washington is correctly predicted."
   ]
  },
  {
   "cell_type": "code",
   "execution_count": 23,
   "metadata": {},
   "outputs": [
    {
     "data": {
      "text/html": [
       "<div>\n",
       "<style scoped>\n",
       "    .dataframe tbody tr th:only-of-type {\n",
       "        vertical-align: middle;\n",
       "    }\n",
       "\n",
       "    .dataframe tbody tr th {\n",
       "        vertical-align: top;\n",
       "    }\n",
       "\n",
       "    .dataframe thead th {\n",
       "        text-align: right;\n",
       "    }\n",
       "</style>\n",
       "<table border=\"1\" class=\"dataframe\">\n",
       "  <thead>\n",
       "    <tr style=\"text-align: right;\">\n",
       "      <th></th>\n",
       "      <th>Answer_predicted</th>\n",
       "      <th>Answer_true</th>\n",
       "      <th>Question</th>\n",
       "    </tr>\n",
       "  </thead>\n",
       "  <tbody>\n",
       "    <tr>\n",
       "      <th>58</th>\n",
       "      <td>Washington</td>\n",
       "      <td>Washington</td>\n",
       "      <td>Joseph J. Ellis' biography of this 18th century man is called \"His Excellency\"</td>\n",
       "    </tr>\n",
       "    <tr>\n",
       "      <th>84</th>\n",
       "      <td>Washington</td>\n",
       "      <td>Washington</td>\n",
       "      <td>Gary Locke of this \"Evergreen State\" is the first Chinese-American governor in U.S. history</td>\n",
       "    </tr>\n",
       "    <tr>\n",
       "      <th>104</th>\n",
       "      <td>Washington</td>\n",
       "      <td>Washington</td>\n",
       "      <td>Title destination of Mr. Smith, Billy Jack &amp; The Happy Hooker</td>\n",
       "    </tr>\n",
       "    <tr>\n",
       "      <th>124</th>\n",
       "      <td>Washington</td>\n",
       "      <td>Washington</td>\n",
       "      <td>His widow Martha once gave the O.K. for him to be re-entombed in the U.S. Capitol; a nephew later nixed the idea</td>\n",
       "    </tr>\n",
       "    <tr>\n",
       "      <th>135</th>\n",
       "      <td>Washington</td>\n",
       "      <td>Washington</td>\n",
       "      <td>Edmund Randolph helped draft &amp; ratify the Constitution before becoming this man's Attorney General</td>\n",
       "    </tr>\n",
       "    <tr>\n",
       "      <th>140</th>\n",
       "      <td>Washington</td>\n",
       "      <td>Washington</td>\n",
       "      <td>SAW NOTHING</td>\n",
       "    </tr>\n",
       "  </tbody>\n",
       "</table>\n",
       "</div>"
      ],
      "text/plain": [
       "    Answer_predicted Answer_true  \\\n",
       "58        Washington  Washington   \n",
       "84        Washington  Washington   \n",
       "104       Washington  Washington   \n",
       "124       Washington  Washington   \n",
       "135       Washington  Washington   \n",
       "140       Washington  Washington   \n",
       "\n",
       "                                                                                                             Question  \n",
       "58                                     Joseph J. Ellis' biography of this 18th century man is called \"His Excellency\"  \n",
       "84                        Gary Locke of this \"Evergreen State\" is the first Chinese-American governor in U.S. history  \n",
       "104                                                     Title destination of Mr. Smith, Billy Jack & The Happy Hooker  \n",
       "124  His widow Martha once gave the O.K. for him to be re-entombed in the U.S. Capitol; a nephew later nixed the idea  \n",
       "135                Edmund Randolph helped draft & ratify the Constitution before becoming this man's Attorney General  \n",
       "140                                                                                                       SAW NOTHING  "
      ]
     },
     "execution_count": 23,
     "metadata": {},
     "output_type": "execute_result"
    }
   ],
   "source": [
    "# build data frame containing test questions, answers, and predicted answers.\n",
    "df_states_6_test = pd.DataFrame(\n",
    "    data = {\"Question\":X_test,\"Answer_true\": y_test,\"Answer_predicted\": list(y_test_predicted)})\n",
    "# correctly predicting Washington\n",
    "df_states_6_test[(df_states_6_test['Answer_true']=='Washington') & \n",
    "                        (df_states_6_test['Answer_predicted']=='Washington') ]"
   ]
  },
  {
   "cell_type": "markdown",
   "metadata": {},
   "source": [
    "About half of the questions where Washington is the answer have to do with the president and not the state (#58, #124, #135). It  looks like the algorithm is able to pull out information about Washington, whether or not the question is asking about the state or the president."
   ]
  },
  {
   "cell_type": "markdown",
   "metadata": {},
   "source": [
    "# Conclusion\n",
    "\n",
    "I hope you enjoyed this post and you are inspired to learn more about natural language processing and classification problems. Some of the inspiration for this post came from [this notebook by Emmanuel Ameisen](https://github.com/hundredblocks/concrete_NLP_tutorial/blob/master/NLP_notebook.ipynb). Also you can learn more about pipelines from [Python Data Science Handbook by Jake VanderPlas](https://jakevdp.github.io/PythonDataScienceHandbook/05.04-feature-engineering.html#Feature-Pipelines)."
   ]
  },
  {
   "cell_type": "markdown",
   "metadata": {},
   "source": [
    "![clapping.gif](./images/clapping.gif)"
   ]
  }
 ],
 "metadata": {
  "kernelspec": {
   "display_name": "Python 2",
   "language": "python",
   "name": "python2"
  },
  "language_info": {
   "codemirror_mode": {
    "name": "ipython",
    "version": 2
   },
   "file_extension": ".py",
   "mimetype": "text/x-python",
   "name": "python",
   "nbconvert_exporter": "python",
   "pygments_lexer": "ipython2",
   "version": "2.7.14"
  }
 },
 "nbformat": 4,
 "nbformat_minor": 2
}
